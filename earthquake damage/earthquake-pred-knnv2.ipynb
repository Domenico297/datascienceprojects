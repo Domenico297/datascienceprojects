{
 "cells": [
  {
   "cell_type": "code",
   "execution_count": 1,
   "metadata": {},
   "outputs": [],
   "source": [
    "import numpy as np\n",
    "import matplotlib.pyplot as plt\n",
    "import pandas as pd"
   ]
  },
  {
   "cell_type": "code",
   "execution_count": 2,
   "metadata": {},
   "outputs": [
    {
     "data": {
      "text/html": [
       "<div>\n",
       "<style scoped>\n",
       "    .dataframe tbody tr th:only-of-type {\n",
       "        vertical-align: middle;\n",
       "    }\n",
       "\n",
       "    .dataframe tbody tr th {\n",
       "        vertical-align: top;\n",
       "    }\n",
       "\n",
       "    .dataframe thead th {\n",
       "        text-align: right;\n",
       "    }\n",
       "</style>\n",
       "<table border=\"1\" class=\"dataframe\">\n",
       "  <thead>\n",
       "    <tr style=\"text-align: right;\">\n",
       "      <th></th>\n",
       "      <th>building_id</th>\n",
       "      <th>geo_level_1_id</th>\n",
       "      <th>geo_level_2_id</th>\n",
       "      <th>geo_level_3_id</th>\n",
       "      <th>count_floors_pre_eq</th>\n",
       "      <th>age</th>\n",
       "      <th>area_percentage</th>\n",
       "      <th>height_percentage</th>\n",
       "      <th>land_surface_condition</th>\n",
       "      <th>foundation_type</th>\n",
       "      <th>...</th>\n",
       "      <th>has_secondary_use_agriculture</th>\n",
       "      <th>has_secondary_use_hotel</th>\n",
       "      <th>has_secondary_use_rental</th>\n",
       "      <th>has_secondary_use_institution</th>\n",
       "      <th>has_secondary_use_school</th>\n",
       "      <th>has_secondary_use_industry</th>\n",
       "      <th>has_secondary_use_health_post</th>\n",
       "      <th>has_secondary_use_gov_office</th>\n",
       "      <th>has_secondary_use_use_police</th>\n",
       "      <th>has_secondary_use_other</th>\n",
       "    </tr>\n",
       "  </thead>\n",
       "  <tbody>\n",
       "    <tr>\n",
       "      <th>0</th>\n",
       "      <td>802906</td>\n",
       "      <td>6</td>\n",
       "      <td>487</td>\n",
       "      <td>12198</td>\n",
       "      <td>2</td>\n",
       "      <td>30</td>\n",
       "      <td>6</td>\n",
       "      <td>5</td>\n",
       "      <td>t</td>\n",
       "      <td>r</td>\n",
       "      <td>...</td>\n",
       "      <td>0</td>\n",
       "      <td>0</td>\n",
       "      <td>0</td>\n",
       "      <td>0</td>\n",
       "      <td>0</td>\n",
       "      <td>0</td>\n",
       "      <td>0</td>\n",
       "      <td>0</td>\n",
       "      <td>0</td>\n",
       "      <td>0</td>\n",
       "    </tr>\n",
       "    <tr>\n",
       "      <th>1</th>\n",
       "      <td>28830</td>\n",
       "      <td>8</td>\n",
       "      <td>900</td>\n",
       "      <td>2812</td>\n",
       "      <td>2</td>\n",
       "      <td>10</td>\n",
       "      <td>8</td>\n",
       "      <td>7</td>\n",
       "      <td>o</td>\n",
       "      <td>r</td>\n",
       "      <td>...</td>\n",
       "      <td>0</td>\n",
       "      <td>0</td>\n",
       "      <td>0</td>\n",
       "      <td>0</td>\n",
       "      <td>0</td>\n",
       "      <td>0</td>\n",
       "      <td>0</td>\n",
       "      <td>0</td>\n",
       "      <td>0</td>\n",
       "      <td>0</td>\n",
       "    </tr>\n",
       "    <tr>\n",
       "      <th>2</th>\n",
       "      <td>94947</td>\n",
       "      <td>21</td>\n",
       "      <td>363</td>\n",
       "      <td>8973</td>\n",
       "      <td>2</td>\n",
       "      <td>10</td>\n",
       "      <td>5</td>\n",
       "      <td>5</td>\n",
       "      <td>t</td>\n",
       "      <td>r</td>\n",
       "      <td>...</td>\n",
       "      <td>0</td>\n",
       "      <td>0</td>\n",
       "      <td>0</td>\n",
       "      <td>0</td>\n",
       "      <td>0</td>\n",
       "      <td>0</td>\n",
       "      <td>0</td>\n",
       "      <td>0</td>\n",
       "      <td>0</td>\n",
       "      <td>0</td>\n",
       "    </tr>\n",
       "    <tr>\n",
       "      <th>3</th>\n",
       "      <td>590882</td>\n",
       "      <td>22</td>\n",
       "      <td>418</td>\n",
       "      <td>10694</td>\n",
       "      <td>2</td>\n",
       "      <td>10</td>\n",
       "      <td>6</td>\n",
       "      <td>5</td>\n",
       "      <td>t</td>\n",
       "      <td>r</td>\n",
       "      <td>...</td>\n",
       "      <td>0</td>\n",
       "      <td>0</td>\n",
       "      <td>0</td>\n",
       "      <td>0</td>\n",
       "      <td>0</td>\n",
       "      <td>0</td>\n",
       "      <td>0</td>\n",
       "      <td>0</td>\n",
       "      <td>0</td>\n",
       "      <td>0</td>\n",
       "    </tr>\n",
       "    <tr>\n",
       "      <th>4</th>\n",
       "      <td>201944</td>\n",
       "      <td>11</td>\n",
       "      <td>131</td>\n",
       "      <td>1488</td>\n",
       "      <td>3</td>\n",
       "      <td>30</td>\n",
       "      <td>8</td>\n",
       "      <td>9</td>\n",
       "      <td>t</td>\n",
       "      <td>r</td>\n",
       "      <td>...</td>\n",
       "      <td>0</td>\n",
       "      <td>0</td>\n",
       "      <td>0</td>\n",
       "      <td>0</td>\n",
       "      <td>0</td>\n",
       "      <td>0</td>\n",
       "      <td>0</td>\n",
       "      <td>0</td>\n",
       "      <td>0</td>\n",
       "      <td>0</td>\n",
       "    </tr>\n",
       "  </tbody>\n",
       "</table>\n",
       "<p>5 rows × 39 columns</p>\n",
       "</div>"
      ],
      "text/plain": [
       "   building_id  geo_level_1_id  geo_level_2_id  geo_level_3_id  \\\n",
       "0       802906               6             487           12198   \n",
       "1        28830               8             900            2812   \n",
       "2        94947              21             363            8973   \n",
       "3       590882              22             418           10694   \n",
       "4       201944              11             131            1488   \n",
       "\n",
       "   count_floors_pre_eq  age  area_percentage  height_percentage  \\\n",
       "0                    2   30                6                  5   \n",
       "1                    2   10                8                  7   \n",
       "2                    2   10                5                  5   \n",
       "3                    2   10                6                  5   \n",
       "4                    3   30                8                  9   \n",
       "\n",
       "  land_surface_condition foundation_type           ...             \\\n",
       "0                      t               r           ...              \n",
       "1                      o               r           ...              \n",
       "2                      t               r           ...              \n",
       "3                      t               r           ...              \n",
       "4                      t               r           ...              \n",
       "\n",
       "  has_secondary_use_agriculture has_secondary_use_hotel  \\\n",
       "0                             0                       0   \n",
       "1                             0                       0   \n",
       "2                             0                       0   \n",
       "3                             0                       0   \n",
       "4                             0                       0   \n",
       "\n",
       "  has_secondary_use_rental has_secondary_use_institution  \\\n",
       "0                        0                             0   \n",
       "1                        0                             0   \n",
       "2                        0                             0   \n",
       "3                        0                             0   \n",
       "4                        0                             0   \n",
       "\n",
       "  has_secondary_use_school  has_secondary_use_industry  \\\n",
       "0                        0                           0   \n",
       "1                        0                           0   \n",
       "2                        0                           0   \n",
       "3                        0                           0   \n",
       "4                        0                           0   \n",
       "\n",
       "   has_secondary_use_health_post  has_secondary_use_gov_office  \\\n",
       "0                              0                             0   \n",
       "1                              0                             0   \n",
       "2                              0                             0   \n",
       "3                              0                             0   \n",
       "4                              0                             0   \n",
       "\n",
       "   has_secondary_use_use_police  has_secondary_use_other  \n",
       "0                             0                        0  \n",
       "1                             0                        0  \n",
       "2                             0                        0  \n",
       "3                             0                        0  \n",
       "4                             0                        0  \n",
       "\n",
       "[5 rows x 39 columns]"
      ]
     },
     "execution_count": 2,
     "metadata": {},
     "output_type": "execute_result"
    }
   ],
   "source": [
    "# import train values\n",
    "\n",
    "train_values=pd.read_csv('train_values.csv')\n",
    "train_values.head()"
   ]
  },
  {
   "cell_type": "code",
   "execution_count": 3,
   "metadata": {},
   "outputs": [
    {
     "data": {
      "text/html": [
       "<div>\n",
       "<style scoped>\n",
       "    .dataframe tbody tr th:only-of-type {\n",
       "        vertical-align: middle;\n",
       "    }\n",
       "\n",
       "    .dataframe tbody tr th {\n",
       "        vertical-align: top;\n",
       "    }\n",
       "\n",
       "    .dataframe thead th {\n",
       "        text-align: right;\n",
       "    }\n",
       "</style>\n",
       "<table border=\"1\" class=\"dataframe\">\n",
       "  <thead>\n",
       "    <tr style=\"text-align: right;\">\n",
       "      <th></th>\n",
       "      <th>building_id</th>\n",
       "      <th>damage_grade</th>\n",
       "    </tr>\n",
       "  </thead>\n",
       "  <tbody>\n",
       "    <tr>\n",
       "      <th>0</th>\n",
       "      <td>802906</td>\n",
       "      <td>3</td>\n",
       "    </tr>\n",
       "    <tr>\n",
       "      <th>1</th>\n",
       "      <td>28830</td>\n",
       "      <td>2</td>\n",
       "    </tr>\n",
       "    <tr>\n",
       "      <th>2</th>\n",
       "      <td>94947</td>\n",
       "      <td>3</td>\n",
       "    </tr>\n",
       "    <tr>\n",
       "      <th>3</th>\n",
       "      <td>590882</td>\n",
       "      <td>2</td>\n",
       "    </tr>\n",
       "    <tr>\n",
       "      <th>4</th>\n",
       "      <td>201944</td>\n",
       "      <td>3</td>\n",
       "    </tr>\n",
       "  </tbody>\n",
       "</table>\n",
       "</div>"
      ],
      "text/plain": [
       "   building_id  damage_grade\n",
       "0       802906             3\n",
       "1        28830             2\n",
       "2        94947             3\n",
       "3       590882             2\n",
       "4       201944             3"
      ]
     },
     "execution_count": 3,
     "metadata": {},
     "output_type": "execute_result"
    }
   ],
   "source": [
    "# import labels\n",
    "\n",
    "train_labels=pd.read_csv('train_labels.csv')\n",
    "train_labels.head()"
   ]
  },
  {
   "cell_type": "code",
   "execution_count": 4,
   "metadata": {},
   "outputs": [
    {
     "name": "stdout",
     "output_type": "stream",
     "text": [
      "(260601, 2)\n",
      "(260601, 39)\n"
     ]
    }
   ],
   "source": [
    "#checking the shape\n",
    "\n",
    "print(train_labels.shape)\n",
    "print(train_values.shape)"
   ]
  },
  {
   "cell_type": "code",
   "execution_count": 5,
   "metadata": {},
   "outputs": [
    {
     "data": {
      "text/plain": [
       "building_id                                int64\n",
       "geo_level_1_id                             int64\n",
       "geo_level_2_id                             int64\n",
       "geo_level_3_id                             int64\n",
       "count_floors_pre_eq                        int64\n",
       "age                                        int64\n",
       "area_percentage                            int64\n",
       "height_percentage                          int64\n",
       "land_surface_condition                    object\n",
       "foundation_type                           object\n",
       "roof_type                                 object\n",
       "ground_floor_type                         object\n",
       "other_floor_type                          object\n",
       "position                                  object\n",
       "plan_configuration                        object\n",
       "has_superstructure_adobe_mud               int64\n",
       "has_superstructure_mud_mortar_stone        int64\n",
       "has_superstructure_stone_flag              int64\n",
       "has_superstructure_cement_mortar_stone     int64\n",
       "has_superstructure_mud_mortar_brick        int64\n",
       "has_superstructure_cement_mortar_brick     int64\n",
       "has_superstructure_timber                  int64\n",
       "has_superstructure_bamboo                  int64\n",
       "has_superstructure_rc_non_engineered       int64\n",
       "has_superstructure_rc_engineered           int64\n",
       "has_superstructure_other                   int64\n",
       "legal_ownership_status                    object\n",
       "count_families                             int64\n",
       "has_secondary_use                          int64\n",
       "has_secondary_use_agriculture              int64\n",
       "has_secondary_use_hotel                    int64\n",
       "has_secondary_use_rental                   int64\n",
       "has_secondary_use_institution              int64\n",
       "has_secondary_use_school                   int64\n",
       "has_secondary_use_industry                 int64\n",
       "has_secondary_use_health_post              int64\n",
       "has_secondary_use_gov_office               int64\n",
       "has_secondary_use_use_police               int64\n",
       "has_secondary_use_other                    int64\n",
       "dtype: object"
      ]
     },
     "execution_count": 5,
     "metadata": {},
     "output_type": "execute_result"
    }
   ],
   "source": [
    "train_values.dtypes     #objects needs to be converted in numbers"
   ]
  },
  {
   "cell_type": "code",
   "execution_count": 6,
   "metadata": {},
   "outputs": [],
   "source": [
    "# transforming text to numbers\n",
    "\n",
    "def manipulate(df):\n",
    "    listobject=df.dtypes=='object'           # create a list of columns that contains objects \n",
    "    nomicolonne=df.loc[:,listobject].keys()     #give the name of columns that contains objects \n",
    "    df_new=df.copy()                         # create a disconnected dataframe (the original one is preserved)\n",
    "    for i in range(len(nomicolonne)):\n",
    "        aa=np.sort(df[nomicolonne[i]].unique())           # create labeles\n",
    "        bb=np.arange(0,len(aa))                         # create numbers associated to labels\n",
    "        dictionary=dict(zip(aa,bb))                       # create a dictionary to be mapped in the columns\n",
    "        df_new[nomicolonne[i]]=df_new[nomicolonne[i]].map(dictionary)      # map the dictionary into the column\n",
    "        print(aa)\n",
    "    return df_new"
   ]
  },
  {
   "cell_type": "code",
   "execution_count": 7,
   "metadata": {},
   "outputs": [
    {
     "name": "stdout",
     "output_type": "stream",
     "text": [
      "['n' 'o' 't']\n",
      "['h' 'i' 'r' 'u' 'w']\n",
      "['n' 'q' 'x']\n",
      "['f' 'm' 'v' 'x' 'z']\n",
      "['j' 'q' 's' 'x']\n",
      "['j' 'o' 's' 't']\n",
      "['a' 'c' 'd' 'f' 'm' 'n' 'o' 'q' 's' 'u']\n",
      "['a' 'r' 'v' 'w']\n"
     ]
    }
   ],
   "source": [
    "# manipulating entries\n",
    "\n",
    "train_values_new=manipulate(train_values)\n",
    "train_values2=train_values_new.drop(columns='building_id')\n",
    "train_labels2=train_labels.drop(columns='building_id')\n",
    "X=np.array(train_values2)\n",
    "y=np.array(train_labels2['damage_grade'])\n",
    "\n",
    "# the scaling of the variables is not useful in this case, since the code becomes much slower"
   ]
  },
  {
   "cell_type": "code",
   "execution_count": 8,
   "metadata": {},
   "outputs": [
    {
     "data": {
      "image/png": "[encoded data removed]",
      "text/plain": [
       "<Figure size 432x288 with 1 Axes>"
      ]
     },
     "metadata": {},
     "output_type": "display_data"
    }
   ],
   "source": [
    "# the output is not balanced. I am going to use stratify in the train_test_split function\n",
    "\n",
    "plt.hist(y)\n",
    "plt.xlabel('Damage grade')\n",
    "plt.ylabel('Counting')\n",
    "plt.show()"
   ]
  },
  {
   "cell_type": "code",
   "execution_count": 9,
   "metadata": {},
   "outputs": [],
   "source": [
    "from sklearn.linear_model import LogisticRegression\n",
    "from sklearn.neighbors import KNeighborsClassifier\n",
    "from sklearn.model_selection import train_test_split, GridSearchCV\n",
    "from sklearn.metrics import classification_report,confusion_matrix,log_loss\n",
    "from sklearn.model_selection import cross_val_score\n"
   ]
  },
  {
   "cell_type": "code",
   "execution_count": 10,
   "metadata": {},
   "outputs": [],
   "source": [
    "# uncomment to analyze the performance of the code, as a function of n_neighbors and the dimension of the test_size\n",
    "\n",
    "#listscore=[]\n",
    "\n",
    "#for j in ([10,20,30]):\n",
    "#    for i in range(1,21):\n",
    "#        x_train,x_test,y_train,y_test=train_test_split(X,y,test_size=j/100,stratify=y)\n",
    "#        knn=KNeighborsClassifier(n_neighbors=i)\n",
    "#        knn.fit(x_train,y_train)\n",
    "#        scoreparz=knn.score(x_test,y_test)\n",
    "#        listscore.append([j/100,i,scoreparz])\n",
    "#        print(j/100,i,scoreparz)"
   ]
  },
  {
   "cell_type": "code",
   "execution_count": 11,
   "metadata": {},
   "outputs": [],
   "source": [
    "#np.savetxt('parameter_scan.txt',listscore)\n",
    "#dfscore=pd.DataFrame(listscore)\n",
    "\n",
    "dfscore=pd.read_csv('parameter_scan.txt',header=None,delimiter=r\"\\s+\")\n",
    "dfscore.head()\n",
    "dfscore.columns=['test_set_frac','n_neighbors','score']\n",
    "dfpivot=dfscore.pivot(index='n_neighbors',columns='test_set_frac',values='score')"
   ]
  },
  {
   "cell_type": "code",
   "execution_count": 12,
   "metadata": {},
   "outputs": [
    {
     "data": {
      "image/png": "[encoded data removed]",
      "text/plain": [
       "<Figure size 432x288 with 1 Axes>"
      ]
     },
     "metadata": {},
     "output_type": "display_data"
    }
   ],
   "source": [
    "dfpivot.plot()\n",
    "plt.ylabel('accuracy')\n",
    "plt.show()"
   ]
  },
  {
   "cell_type": "code",
   "execution_count": 24,
   "metadata": {},
   "outputs": [
    {
     "name": "stdout",
     "output_type": "stream",
     "text": [
      "----------------------------------------------------\n",
      "Confusion matrix \n",
      "[[ 1212   707   111]\n",
      " [ 1196 12310  3611]\n",
      " [  105  1809  5000]]\n",
      "----------------------------------------------------\n",
      "Report \n",
      "             precision    recall  f1-score   support\n",
      "\n",
      "          1       0.48      0.60      0.53      2030\n",
      "          2       0.83      0.72      0.77     17117\n",
      "          3       0.57      0.72      0.64      6914\n",
      "\n",
      "avg / total       0.73      0.71      0.72     26061\n",
      "\n",
      "----------------------------------------------------\n"
     ]
    }
   ],
   "source": [
    "# this is the training section\n",
    "\n",
    "x_train,x_test,y_train,y_test=train_test_split(X,y,test_size=0.1,stratify=y)\n",
    "\n",
    "knn=KNeighborsClassifier(n_neighbors=10)\n",
    "knn.fit(x_train,y_train)\n",
    "y_pred=knn.predict(x_test)\n",
    "\n",
    "print(\"----------------------------------------------------\") \n",
    "print(\"Confusion matrix \\n\"+str(confusion_matrix(y_pred,y_test))) \n",
    "print(\"----------------------------------------------------\") \n",
    "print(\"Report \\n\"+str(classification_report(y_pred,y_test))) \n",
    "print(\"----------------------------------------------------\")\n",
    "#print(\"Cross validation \"+str(np.mean(cross_val_score(knn,X,y,cv=3,scoring='f1_micro'))))"
   ]
  },
  {
   "cell_type": "code",
   "execution_count": 14,
   "metadata": {},
   "outputs": [
    {
     "name": "stdout",
     "output_type": "stream",
     "text": [
      "['n' 'o' 't']\n",
      "['h' 'i' 'r' 'u' 'w']\n",
      "['n' 'q' 'x']\n",
      "['f' 'm' 'v' 'x' 'z']\n",
      "['j' 'q' 's' 'x']\n",
      "['j' 'o' 's' 't']\n",
      "['a' 'c' 'd' 'f' 'm' 'n' 'o' 'q' 's' 'u']\n",
      "['a' 'r' 'v' 'w']\n"
     ]
    },
    {
     "data": {
      "image/png": "[encoded data removed]",
      "text/plain": [
       "<Figure size 432x288 with 38 Axes>"
      ]
     },
     "metadata": {},
     "output_type": "display_data"
    }
   ],
   "source": [
    "# import test values\n",
    "\n",
    "test_values=pd.read_csv('test_values.csv')\n",
    "test_values_new=manipulate(test_values)\n",
    "test_values2=test_values_new.drop(columns='building_id')\n",
    "Xtest=np.array(test_values2)\n",
    "\n",
    "#checking the overlap between traning and test dataset\n",
    "\n",
    "for i in range(X.shape[1]):\n",
    "    plt.subplot(8,5,i+1)\n",
    "    plt.hist(X[:,i],density=True)\n",
    "    plt.hist(Xtest[:,i],density=True,color='yellow',alpha=0.5)\n",
    "    plt.subplots_adjust(hspace =0.4,wspace=2)\n",
    "plt.show()"
   ]
  },
  {
   "cell_type": "code",
   "execution_count": 26,
   "metadata": {},
   "outputs": [
    {
     "data": {
      "image/png": "[encoded data removed]",
      "text/plain": [
       "<Figure size 432x288 with 1 Axes>"
      ]
     },
     "metadata": {},
     "output_type": "display_data"
    }
   ],
   "source": [
    "# final prediction and plot of the result\n",
    "\n",
    "finalprediction=knn.predict(Xtest)   #prediction using test values\n",
    "\n",
    "plt.hist(finalprediction)\n",
    "plt.xlabel('Damage grade')\n",
    "plt.ylabel('Number')\n",
    "plt.title('Test dataset')\n",
    "plt.show()"
   ]
  },
  {
   "cell_type": "code",
   "execution_count": 27,
   "metadata": {},
   "outputs": [],
   "source": [
    "# preparing the submission file\n",
    "\n",
    "df=pd.DataFrame(test_values['building_id'])               \n",
    "df['damage_grade']=finalprediction"
   ]
  },
  {
   "cell_type": "code",
   "execution_count": 28,
   "metadata": {},
   "outputs": [],
   "source": [
    "#exporting the submission file\n",
    "\n",
    "df.to_csv('submission-knn.csv',index=False)     \n",
    "\n",
    "# THE MAIN CODE ENDS HERE"
   ]
  },
  {
   "cell_type": "code",
   "execution_count": 18,
   "metadata": {},
   "outputs": [],
   "source": [
    "# this is a smaller dataset, used to test each individual feature\n",
    "\n",
    "x_train,x_test,y_train,y_test=train_test_split(X,y,test_size=0.8,stratify=y)\n",
    "\n",
    "x_train2,x_test2,y_train2,y_test2=train_test_split(X,y,test_size=0.1,stratify=y)"
   ]
  },
  {
   "cell_type": "code",
   "execution_count": 19,
   "metadata": {},
   "outputs": [],
   "source": [
    "# I analyze the features unsing a reduced dataset (20% training, 10% validation)\n",
    "\n",
    "#knn=KNeighborsClassifier(n_neighbors=5)\n",
    "\n",
    "#featurescore=[]\n",
    "\n",
    "#for i in range(X.shape[1]):\n",
    "#    knn.fit(x_train[:,i].reshape(-1,1),y_train)\n",
    "#    y_pred=knn.predict(x_test2[:,i].reshape(-1,1))\n",
    "#    score=knn.score(x_test2[:,i].reshape(-1,1),y_test2)\n",
    "#    featurescore.append([i,score])\n",
    "#    print(i,score)"
   ]
  },
  {
   "cell_type": "code",
   "execution_count": 20,
   "metadata": {},
   "outputs": [
    {
     "data": {
      "image/png": "[encoded data removed]",
      "text/plain": [
       "<Figure size 432x288 with 1 Axes>"
      ]
     },
     "metadata": {},
     "output_type": "display_data"
    }
   ],
   "source": [
    "#np.savetxt('featurescore.txt',featurescore)\n",
    "\n",
    "# some feature shows weak correlations with the results\n",
    "\n",
    "dffeature=pd.read_csv('featurescore.txt',header=None,delimiter=r\"\\s+\")\n",
    "dffeature.columns=['feature_ID','score']\n",
    "dffeature.index=dffeature['feature_ID']\n",
    "dffeature=dffeature.drop(columns='feature_ID')\n",
    "\n",
    "dffeature.plot(kind='bar')\n",
    "plt.show()"
   ]
  },
  {
   "cell_type": "code",
   "execution_count": 21,
   "metadata": {},
   "outputs": [
    {
     "name": "stdout",
     "output_type": "stream",
     "text": [
      "----------------------------------------------------\n",
      "Confusion matrix \n",
      "[[ 1856  1142   163]\n",
      " [ 1727 18447  5388]\n",
      " [  186  2650  7532]]\n",
      "----------------------------------------------------\n",
      "Report \n",
      "             precision    recall  f1-score   support\n",
      "\n",
      "          1       0.49      0.59      0.54      3161\n",
      "          2       0.83      0.72      0.77     25562\n",
      "          3       0.58      0.73      0.64     10368\n",
      "\n",
      "avg / total       0.73      0.71      0.72     39091\n",
      "\n",
      "----------------------------------------------------\n",
      "Cross validation 0.7063249970464983\n"
     ]
    }
   ],
   "source": [
    "# an attempt using a reduced dataset (reduced features)\n",
    "\n",
    "def scaling(xx,xref):         #this function normalizes the entries. However, when it is used, the algorithm becomes very slow\n",
    "    mm=np.mean(xref,axis=0)\n",
    "    ss=np.std(xref,axis=0)\n",
    "    return (xx-mm)/ss    \n",
    "\n",
    "#Xred=scaling(X[:,[0,1,2]],X[:,[0,1,2]])\n",
    "featuretotake=np.array(dffeature['score']>0.5)\n",
    "\n",
    "Xred=X[:,featuretotake]\n",
    "\n",
    "x_train,x_test,y_train,y_test=train_test_split(Xred,y,test_size=0.15,stratify=y)\n",
    "\n",
    "knn=KNeighborsClassifier(n_neighbors=8)\n",
    "knn.fit(x_train,y_train)\n",
    "y_pred=knn.predict(x_test)\n",
    "\n",
    "print(\"----------------------------------------------------\") \n",
    "print(\"Confusion matrix \\n\"+str(confusion_matrix(y_pred,y_test))) \n",
    "print(\"----------------------------------------------------\") \n",
    "print(\"Report \\n\"+str(classification_report(y_pred,y_test))) \n",
    "print(\"----------------------------------------------------\")\n",
    "print(\"Cross validation \"+str(np.mean(cross_val_score(knn,Xred,y,cv=3,scoring='f1_micro'))))"
   ]
  },
  {
   "cell_type": "code",
   "execution_count": null,
   "metadata": {},
   "outputs": [],
   "source": []
  },
  {
   "cell_type": "code",
   "execution_count": null,
   "metadata": {},
   "outputs": [],
   "source": []
  },
  {
   "cell_type": "code",
   "execution_count": null,
   "metadata": {},
   "outputs": [],
   "source": []
  }
 ],
 "metadata": {
  "kernelspec": {
   "display_name": "Python 3",
   "language": "python",
   "name": "python3"
  },
  "language_info": {
   "codemirror_mode": {
    "name": "ipython",
    "version": 3
   },
   "file_extension": ".py",
   "mimetype": "text/x-python",
   "name": "python",
   "nbconvert_exporter": "python",
   "pygments_lexer": "ipython3",
   "version": "3.6.5"
  }
 },
 "nbformat": 4,
 "nbformat_minor": 2
}
