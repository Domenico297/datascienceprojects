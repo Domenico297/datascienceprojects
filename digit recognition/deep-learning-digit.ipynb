{
 "cells": [
  {
   "cell_type": "code",
   "execution_count": 1,
   "metadata": {},
   "outputs": [
    {
     "name": "stderr",
     "output_type": "stream",
     "text": [
      "/Users/andreapalladino/anaconda3/lib/python3.6/site-packages/h5py/__init__.py:36: FutureWarning: Conversion of the second argument of issubdtype from `float` to `np.floating` is deprecated. In future, it will be treated as `np.float64 == np.dtype(float).type`.\n",
      "  from ._conv import register_converters as _register_converters\n",
      "Using TensorFlow backend.\n"
     ]
    }
   ],
   "source": [
    "import numpy as np\n",
    "import matplotlib.pyplot as plt\n",
    "import pandas as pd\n",
    "import keras\n",
    "from keras.models import Sequential\n",
    "from keras.layers import Dense\n",
    "from keras.callbacks import EarlyStopping\n",
    "from sklearn.model_selection import train_test_split, GridSearchCV\n",
    "from sklearn.metrics import precision_score, recall_score\n",
    "from sklearn.preprocessing import scale\n",
    "from keras.optimizers import SGD\n",
    "from sklearn.neighbors import KNeighborsClassifier\n",
    "from sklearn.metrics import classification_report,confusion_matrix,roc_auc_score\n",
    "from sklearn.model_selection import cross_val_score"
   ]
  },
  {
   "cell_type": "code",
   "execution_count": 2,
   "metadata": {},
   "outputs": [
    {
     "data": {
      "text/plain": [
       "(42000, 785)"
      ]
     },
     "execution_count": 2,
     "metadata": {},
     "output_type": "execute_result"
    }
   ],
   "source": [
    "# importing data using Pandas\n",
    "\n",
    "dftrain=pd.read_csv('train.csv',header=None)\n",
    "dftrain.head()\n",
    "\n",
    "dftrain.shape"
   ]
  },
  {
   "cell_type": "code",
   "execution_count": 3,
   "metadata": {},
   "outputs": [
    {
     "data": {
      "text/plain": [
       "(28000, 784)"
      ]
     },
     "execution_count": 3,
     "metadata": {},
     "output_type": "execute_result"
    }
   ],
   "source": [
    "dftest=pd.read_csv('test.csv',header=None)\n",
    "dftest.head()\n",
    "\n",
    "dftest.shape"
   ]
  },
  {
   "cell_type": "code",
   "execution_count": 4,
   "metadata": {},
   "outputs": [],
   "source": [
    "# converto i dati in Array per comodità\n",
    "nn=dftrain.shape[1]\n",
    "\n",
    "ycheck=np.array(dftrain.iloc[:,0])\n",
    "y=np.array(pd.get_dummies(dftrain.iloc[:,0]))\n",
    "#y=ycheck\n",
    "X=np.array(dftrain.iloc[:,1:nn])"
   ]
  },
  {
   "cell_type": "code",
   "execution_count": 5,
   "metadata": {},
   "outputs": [],
   "source": [
    "# reshape del vettore, in modo da poter visualizzare l'immagine\n",
    "\n",
    "#peppe=np.random.rand(28,28)\n",
    "\n",
    "#def numimg(t):\n",
    " #   for i in range(28):\n",
    "  #      for j in range(28):\n",
    "   #         peppe[i,j]=X[t,j+28*i]\n",
    "   # return peppe\n",
    "\n",
    "def numimg2(t,X):\n",
    "    vecreshape=np.reshape(X[t,:],[28,28])\n",
    "    return vecreshape"
   ]
  },
  {
   "cell_type": "code",
   "execution_count": 6,
   "metadata": {},
   "outputs": [
    {
     "name": "stdout",
     "output_type": "stream",
     "text": [
      "4\n"
     ]
    },
    {
     "data": {
      "image/png": "[encoded data removed]",
      "text/plain": [
       "<Figure size 432x288 with 2 Axes>"
      ]
     },
     "metadata": {},
     "output_type": "display_data"
    }
   ],
   "source": [
    "print(ycheck[39001])\n",
    "\n",
    "plt.imshow(numimg2(39001,X),cmap='gray')\n",
    "plt.colorbar()\n",
    "plt.show()"
   ]
  },
  {
   "cell_type": "code",
   "execution_count": 7,
   "metadata": {},
   "outputs": [
    {
     "name": "stdout",
     "output_type": "stream",
     "text": [
      "784\n"
     ]
    }
   ],
   "source": [
    "# inizio il codice di machine learning con reti neurali\n",
    "\n",
    "ncols=X.shape[1]\n",
    "numutput=10 #ho 10 possibili output\n",
    "\n",
    "print(ncols)"
   ]
  },
  {
   "cell_type": "code",
   "execution_count": 8,
   "metadata": {},
   "outputs": [
    {
     "name": "stdout",
     "output_type": "stream",
     "text": [
      "Epoch 1/10\n",
      "42000/42000 [==============================] - 18s 429us/step - loss: 0.5525 - acc: 0.8802\n",
      "Epoch 2/10\n",
      "  480/42000 [..............................] - ETA: 17s - loss: 0.3178 - acc: 0.9187"
     ]
    },
    {
     "name": "stderr",
     "output_type": "stream",
     "text": [
      "/Users/andreapalladino/anaconda3/lib/python3.6/site-packages/keras/callbacks.py:569: RuntimeWarning: Early stopping conditioned on metric `val_loss` which is not available. Available metrics are: loss,acc\n",
      "  (self.monitor, ','.join(list(logs.keys()))), RuntimeWarning\n"
     ]
    },
    {
     "name": "stdout",
     "output_type": "stream",
     "text": [
      "42000/42000 [==============================] - 16s 379us/step - loss: 0.2931 - acc: 0.9171\n",
      "Epoch 3/10\n",
      "42000/42000 [==============================] - 16s 383us/step - loss: 0.2569 - acc: 0.9246\n",
      "Epoch 4/10\n",
      "42000/42000 [==============================] - 15s 369us/step - loss: 0.2376 - acc: 0.9272\n",
      "Epoch 5/10\n",
      "42000/42000 [==============================] - 16s 372us/step - loss: 0.2235 - acc: 0.9310\n",
      "Epoch 6/10\n",
      "42000/42000 [==============================] - 19s 443us/step - loss: 0.2159 - acc: 0.9343\n",
      "Epoch 7/10\n",
      "42000/42000 [==============================] - 21s 489us/step - loss: 0.2016 - acc: 0.9363\n",
      "Epoch 8/10\n",
      "42000/42000 [==============================] - 24s 575us/step - loss: 0.1950 - acc: 0.9405\n",
      "Epoch 9/10\n",
      "42000/42000 [==============================] - 23s 541us/step - loss: 0.1963 - acc: 0.9377\n",
      "Epoch 10/10\n",
      "42000/42000 [==============================] - 19s 459us/step - loss: 0.1856 - acc: 0.9419\n",
      "Loss function: categorical_crossentropy\n"
     ]
    }
   ],
   "source": [
    "model=Sequential()\n",
    "model.add(Dense(28*28,activation='sigmoid',input_shape=(ncols,)))\n",
    "model.add(Dense(28,activation='sigmoid'))\n",
    "model.add(Dense(numutput,activation='softmax'))\n",
    "#model.add(Dense(1))\n",
    "\n",
    "model.compile(optimizer='adam',loss='categorical_crossentropy',metrics=['accuracy'])\n",
    "#model.compile(optimizer='adam',loss='mean_squared_error',metrics=['accuracy'])\n",
    "early_stopping_monitor = EarlyStopping(patience=1)\n",
    "\n",
    "history=model.fit(X,y,validation_split=0.,epochs=10,callbacks=[early_stopping_monitor])\n",
    "print(\"Loss function: \" + model.loss)"
   ]
  },
  {
   "cell_type": "code",
   "execution_count": 9,
   "metadata": {},
   "outputs": [
    {
     "name": "stdout",
     "output_type": "stream",
     "text": [
      "_________________________________________________________________\n",
      "Layer (type)                 Output Shape              Param #   \n",
      "=================================================================\n",
      "dense_1 (Dense)              (None, 784)               615440    \n",
      "_________________________________________________________________\n",
      "dense_2 (Dense)              (None, 28)                21980     \n",
      "_________________________________________________________________\n",
      "dense_3 (Dense)              (None, 10)                290       \n",
      "=================================================================\n",
      "Total params: 637,710\n",
      "Trainable params: 637,710\n",
      "Non-trainable params: 0\n",
      "_________________________________________________________________\n"
     ]
    }
   ],
   "source": [
    "model.summary()"
   ]
  },
  {
   "cell_type": "code",
   "execution_count": 34,
   "metadata": {},
   "outputs": [
    {
     "name": "stdout",
     "output_type": "stream",
     "text": [
      "[1 0 1 4 0 0 7 3 5 3 8 9 1 3 3 1 2 0 7 5 8 6 2 0 2 3 6 9 9 7]\n",
      "[1 0 1 4 0 0 7 3 5 3 8 9 1 3 3 1 2 0 7 5 8 6 2 0 2 3 6 9 9 7]\n"
     ]
    },
    {
     "data": {
      "text/plain": [
       "94.23809523809524"
      ]
     },
     "execution_count": 34,
     "metadata": {},
     "output_type": "execute_result"
    }
   ],
   "source": [
    "#predizioni del modello\n",
    "risultati=np.round(model.predict(X),1)\n",
    "\n",
    "#print(risultati con dataset di training)\n",
    "finres=np.argmax(risultati,axis=1)\n",
    "\n",
    "print(finres[0:30])\n",
    "\n",
    "#confronto con i dati reali\n",
    "print(ycheck[0:30])\n",
    "\n",
    "np.sum(finres==ycheck)/len(finres)*100    #accuratezza"
   ]
  },
  {
   "cell_type": "code",
   "execution_count": 11,
   "metadata": {},
   "outputs": [
    {
     "name": "stdout",
     "output_type": "stream",
     "text": [
      "[2 0 9 9 3 7 0 3 0 3]\n"
     ]
    }
   ],
   "source": [
    "# I compute the final results using the test dataset\n",
    "\n",
    "Xtest=np.array(dftest)\n",
    "\n",
    "#predizioni del modello\n",
    "risultati=np.round(model.predict(Xtest),1)\n",
    "\n",
    "#print(risultati con dataset di test)\n",
    "finres=np.argmax(risultati,axis=1)\n",
    "\n",
    "print(finres[0:10])"
   ]
  },
  {
   "cell_type": "code",
   "execution_count": 29,
   "metadata": {},
   "outputs": [
    {
     "name": "stdout",
     "output_type": "stream",
     "text": [
      "The predicted number is  7\n"
     ]
    },
    {
     "data": {
      "image/png": "[encoded data removed]",
      "text/plain": [
       "<Figure size 432x288 with 2 Axes>"
      ]
     },
     "metadata": {},
     "output_type": "display_data"
    },
    {
     "name": "stdout",
     "output_type": "stream",
     "text": [
      "The predicted number is  6\n"
     ]
    },
    {
     "data": {
      "image/png": "[encoded data removed]",
      "text/plain": [
       "<Figure size 432x288 with 2 Axes>"
      ]
     },
     "metadata": {},
     "output_type": "display_data"
    },
    {
     "name": "stdout",
     "output_type": "stream",
     "text": [
      "The predicted number is  1\n"
     ]
    },
    {
     "data": {
      "image/png": "[encoded data removed]",
      "text/plain": [
       "<Figure size 432x288 with 2 Axes>"
      ]
     },
     "metadata": {},
     "output_type": "display_data"
    },
    {
     "name": "stdout",
     "output_type": "stream",
     "text": [
      "The predicted number is  9\n"
     ]
    },
    {
     "data": {
      "image/png": "[encoded data removed]",
      "text/plain": [
       "<Figure size 432x288 with 2 Axes>"
      ]
     },
     "metadata": {},
     "output_type": "display_data"
    },
    {
     "name": "stdout",
     "output_type": "stream",
     "text": [
      "The predicted number is  7\n"
     ]
    },
    {
     "data": {
      "image/png": "[encoded data removed]",
      "text/plain": [
       "<Figure size 432x288 with 2 Axes>"
      ]
     },
     "metadata": {},
     "output_type": "display_data"
    },
    {
     "name": "stdout",
     "output_type": "stream",
     "text": [
      "The predicted number is  9\n"
     ]
    },
    {
     "data": {
      "image/png": "[encoded data removed]",
      "text/plain": [
       "<Figure size 432x288 with 2 Axes>"
      ]
     },
     "metadata": {},
     "output_type": "display_data"
    },
    {
     "name": "stdout",
     "output_type": "stream",
     "text": [
      "The predicted number is  7\n"
     ]
    },
    {
     "data": {
      "image/png": "[encoded data removed]",
      "text/plain": [
       "<Figure size 432x288 with 2 Axes>"
      ]
     },
     "metadata": {},
     "output_type": "display_data"
    },
    {
     "name": "stdout",
     "output_type": "stream",
     "text": [
      "The predicted number is  3\n"
     ]
    },
    {
     "data": {
      "image/png": "[encoded data removed]",
      "text/plain": [
       "<Figure size 432x288 with 2 Axes>"
      ]
     },
     "metadata": {},
     "output_type": "display_data"
    },
    {
     "name": "stdout",
     "output_type": "stream",
     "text": [
      "The predicted number is  9\n"
     ]
    },
    {
     "data": {
      "image/png": "[encoded data removed]",
      "text/plain": [
       "<Figure size 432x288 with 2 Axes>"
      ]
     },
     "metadata": {},
     "output_type": "display_data"
    },
    {
     "name": "stdout",
     "output_type": "stream",
     "text": [
      "The predicted number is  2\n"
     ]
    },
    {
     "data": {
      "image/png": "[encoded data removed]",
      "text/plain": [
       "<Figure size 432x288 with 2 Axes>"
      ]
     },
     "metadata": {},
     "output_type": "display_data"
    }
   ],
   "source": [
    "import time\n",
    "\n",
    "for i in range(27990,28000):\n",
    "    print(\"The predicted number is \",finres[i])\n",
    "    plt.imshow(numimg2(i,Xtest),cmap='gray')\n",
    "    plt.colorbar()\n",
    "    plt.show() \n",
    "    plt.pause(1)\n"
   ]
  },
  {
   "cell_type": "code",
   "execution_count": 28,
   "metadata": {},
   "outputs": [
    {
     "data": {
      "text/html": [
       "<div>\n",
       "<style scoped>\n",
       "    .dataframe tbody tr th:only-of-type {\n",
       "        vertical-align: middle;\n",
       "    }\n",
       "\n",
       "    .dataframe tbody tr th {\n",
       "        vertical-align: top;\n",
       "    }\n",
       "\n",
       "    .dataframe thead th {\n",
       "        text-align: right;\n",
       "    }\n",
       "</style>\n",
       "<table border=\"1\" class=\"dataframe\">\n",
       "  <thead>\n",
       "    <tr style=\"text-align: right;\">\n",
       "      <th></th>\n",
       "      <th>ImageID</th>\n",
       "      <th>Label</th>\n",
       "    </tr>\n",
       "  </thead>\n",
       "  <tbody>\n",
       "    <tr>\n",
       "      <th>0</th>\n",
       "      <td>1</td>\n",
       "      <td>2</td>\n",
       "    </tr>\n",
       "    <tr>\n",
       "      <th>1</th>\n",
       "      <td>2</td>\n",
       "      <td>0</td>\n",
       "    </tr>\n",
       "    <tr>\n",
       "      <th>2</th>\n",
       "      <td>3</td>\n",
       "      <td>9</td>\n",
       "    </tr>\n",
       "    <tr>\n",
       "      <th>3</th>\n",
       "      <td>4</td>\n",
       "      <td>9</td>\n",
       "    </tr>\n",
       "    <tr>\n",
       "      <th>4</th>\n",
       "      <td>5</td>\n",
       "      <td>3</td>\n",
       "    </tr>\n",
       "  </tbody>\n",
       "</table>\n",
       "</div>"
      ],
      "text/plain": [
       "   ImageID  Label\n",
       "0        1      2\n",
       "1        2      0\n",
       "2        3      9\n",
       "3        4      9\n",
       "4        5      3"
      ]
     },
     "execution_count": 28,
     "metadata": {},
     "output_type": "execute_result"
    }
   ],
   "source": [
    "imageid=np.arange(1,len(finres)+1)\n",
    "\n",
    "dictionary={'ImageID':imageid,'Label':finres}\n",
    "\n",
    "df=pd.DataFrame(dictionary)\n",
    "\n",
    "df.to_csv('sample_submission.csv',index=False)\n",
    "\n",
    "df.head()"
   ]
  },
  {
   "cell_type": "code",
   "execution_count": null,
   "metadata": {},
   "outputs": [],
   "source": []
  },
  {
   "cell_type": "code",
   "execution_count": null,
   "metadata": {},
   "outputs": [],
   "source": []
  }
 ],
 "metadata": {
  "kernelspec": {
   "display_name": "Python 3",
   "language": "python",
   "name": "python3"
  },
  "language_info": {
   "codemirror_mode": {
    "name": "ipython",
    "version": 3
   },
   "file_extension": ".py",
   "mimetype": "text/x-python",
   "name": "python",
   "nbconvert_exporter": "python",
   "pygments_lexer": "ipython3",
   "version": "3.6.5"
  }
 },
 "nbformat": 4,
 "nbformat_minor": 2
}
